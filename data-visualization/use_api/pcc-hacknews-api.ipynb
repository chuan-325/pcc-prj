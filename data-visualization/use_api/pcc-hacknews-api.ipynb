{
 "metadata": {
  "language_info": {
   "codemirror_mode": {
    "name": "ipython",
    "version": 3
   },
   "file_extension": ".py",
   "mimetype": "text/x-python",
   "name": "python",
   "nbconvert_exporter": "python",
   "pygments_lexer": "ipython3",
   "version": "3.8.6"
  },
  "orig_nbformat": 2,
  "kernelspec": {
   "name": "python3",
   "display_name": "Python 3.8.6 64-bit ('pycc': conda)",
   "metadata": {
    "interpreter": {
     "hash": "3238392ffc0fa5aeca5a9f3e1fdb054663145ea406325b4dd3614f33801c1d4c"
    }
   }
  }
 },
 "nbformat": 4,
 "nbformat_minor": 2,
 "cells": [
  {
   "source": [
    "# Using other API"
   ],
   "cell_type": "markdown",
   "metadata": {}
  },
  {
   "source": [
    "## test api by using requests"
   ],
   "cell_type": "markdown",
   "metadata": {}
  },
  {
   "cell_type": "code",
   "execution_count": null,
   "metadata": {},
   "outputs": [],
   "source": [
    "import requests\n",
    "from operator import itemgetter\n",
    "\n",
    "# Make an API call, and store the response.\n",
    "proxies = {  # necessary proxy settings\n",
    "    'http': 'http://localhost:23456', \n",
    "    'https': 'http://localhost:23456'\n",
    "}\n",
    "url = 'https://hacker-news.firebaseio.com/v0/topstories.json'\n",
    "r = requests.get(url, proxies=proxies)\n",
    "r_stat = r.status_code\n",
    "print(\"Status code:\", r_stat, end=\"\")\n",
    "if int(r_stat) == 200:\n",
    "    print(\"\\tSuccess!\")\n",
    "else:\n",
    "    print(\"\\tFalied!\")"
   ]
  },
  {
   "source": [
    "## return top 30"
   ],
   "cell_type": "markdown",
   "metadata": {}
  },
  {
   "cell_type": "code",
   "execution_count": null,
   "metadata": {},
   "outputs": [],
   "source": [
    "# Process information about each submission.\n",
    "submission_ids = r.json()\n",
    "submission_dicts = []\n",
    "success_count = 0\n",
    "for submission_id in submission_ids[:30]:\n",
    "    # Make a separate API call for each submission.\n",
    "    url = ('https://hacker-news.firebaseio.com/v0/item/' +\n",
    "           str(submission_id) + '.json')\n",
    "    submission_r = requests.get(url, proxies=proxies)\n",
    "    if(int(submission_r.status_code)==200):\n",
    "        success_count += 1\n",
    "    #print(submission_r.status_code)\n",
    "    response_dict = submission_r.json()\n",
    "\n",
    "    submission_dict = {\n",
    "        'title': response_dict['title'],\n",
    "        'link': 'http://news.ycombinator.com/item?id=' + str(submission_id),\n",
    "        'comments': response_dict.get('descendants', 0)\n",
    "    }\n",
    "    submission_dicts.append(submission_dict)\n",
    "\n"
   ]
  },
  {
   "cell_type": "code",
   "execution_count": null,
   "metadata": {},
   "outputs": [],
   "source": [
    "# check success count\n",
    "print(\"Total\\t\",str(30), \"\\nSuccess\\t\", str(success_count))\n",
    "\n",
    "submission_dicts = sorted(submission_dicts, \n",
    "                    key=itemgetter('comments'),\n",
    "                          reverse=True)"
   ]
  },
  {
   "source": [
    "## Output"
   ],
   "cell_type": "markdown",
   "metadata": {}
  },
  {
   "cell_type": "code",
   "execution_count": 28,
   "metadata": {},
   "outputs": [],
   "source": [
    "filename = 'output/haker-new-top-30.txt'\n",
    "with open(filename, 'a', encoding='utf-8') as f:\n",
    "    for submission_dict in submission_dicts:\n",
    "        f.write(\"Title:\"\n",
    "                +str(submission_dict['title'])\n",
    "                +\"\\nDiscussion link:\"\n",
    "                +str(submission_dict['link'])\n",
    "                +\"\\nComments:\"\n",
    "                +str(submission_dict['comments'])\n",
    "                +\"\\n\\n\")\n"
   ]
  },
  {
   "cell_type": "code",
   "execution_count": null,
   "metadata": {},
   "outputs": [],
   "source": [
    "# [optional] Expect same result as the txt file\n",
    "for submission_dict in submission_dicts:\n",
    "    print(\"\\nTitle:\", submission_dict['title'])\n",
    "    print(\"Discussion link:\", submission_dict['link'])\n",
    "    print(\"Comments:\", submission_dict['comments'])\n"
   ]
  },
  {
   "cell_type": "code",
   "execution_count": null,
   "metadata": {},
   "outputs": [],
   "source": []
  }
 ]
}