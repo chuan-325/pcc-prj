{
 "metadata": {
  "language_info": {
   "codemirror_mode": {
    "name": "ipython",
    "version": 3
   },
   "file_extension": ".py",
   "mimetype": "text/x-python",
   "name": "python",
   "nbconvert_exporter": "python",
   "pygments_lexer": "ipython3",
   "version": "3.8.6"
  },
  "orig_nbformat": 2,
  "kernelspec": {
   "name": "python3",
   "display_name": "Python 3",
   "language": "python"
  }
 },
 "nbformat": 4,
 "nbformat_minor": 2,
 "cells": [
  {
   "source": [
    "# Using Web API"
   ],
   "cell_type": "markdown",
   "metadata": {}
  },
  {
   "source": [
    "## get data from github API"
   ],
   "cell_type": "markdown",
   "metadata": {}
  },
  {
   "cell_type": "code",
   "execution_count": 2,
   "metadata": {},
   "outputs": [
    {
     "output_type": "stream",
     "name": "stdout",
     "text": [
      "Status code: 200\n"
     ]
    }
   ],
   "source": [
    "import requests\n",
    "\n",
    "# get url & store response\n",
    "proxies = {  # necessary proxy settings\n",
    "    'http': 'http://localhost:23456', \n",
    "    'https': 'http://localhost:23456'\n",
    "}\n",
    "url = 'https://api.github.com/search/repositories?q=language:python&sort=stars'\n",
    "r = requests.get(url, proxies=proxies)\n",
    "print(\"Status code:\", r.status_code) # 200=success\n"
   ]
  },
  {
   "cell_type": "code",
   "execution_count": 3,
   "metadata": {},
   "outputs": [
    {
     "output_type": "stream",
     "name": "stdout",
     "text": [
      "Total repositories: 6670938\nRepositories returned: 30\n"
     ]
    }
   ],
   "source": [
    "# store JSON-format response\n",
    "response_dict = r.json()\n",
    "print(\"Total repositories:\", response_dict['total_count'])\n",
    "\n",
    "# + count how many info we get\n",
    "repo_dicts = response_dict['items']\n",
    "print(\"Repositories returned:\", len(repo_dicts))\n"
   ]
  },
  {
   "cell_type": "code",
   "execution_count": 4,
   "metadata": {},
   "outputs": [
    {
     "output_type": "stream",
     "name": "stdout",
     "text": [
      "\nSelected information about first repository:\nName: system-design-primer\nOwner: donnemartin\nStars: 121631\n"
     ]
    }
   ],
   "source": [
    "# repo 01 research\n",
    "repo_dict = repo_dicts[0]\n",
    "print(\"\\nSelected information about first repository:\")\n",
    "print('Name:', repo_dict['name'])\n",
    "print('Owner:', repo_dict['owner']['login'])\n",
    "print('Stars:', repo_dict['stargazers_count'])"
   ]
  },
  {
   "cell_type": "code",
   "execution_count": 5,
   "metadata": {},
   "outputs": [
    {
     "output_type": "stream",
     "name": "stdout",
     "text": [
      "\nSelected info about each repo\n\nName: system-design-primer\nOwner: donnemartin\nStars: 121631\nRepo: https://github.com/donnemartin/system-design-primer\nDescription: Learn how to design large-scale systems. Prep for the system design interview.  Includes Anki flashcards.\n\nName: public-apis\nOwner: public-apis\nStars: 110954\nRepo: https://github.com/public-apis/public-apis\nDescription: A collective list of free APIs for use in software and web development.\n\nName: Python\nOwner: TheAlgorithms\nStars: 100107\nRepo: https://github.com/TheAlgorithms/Python\nDescription: All Algorithms implemented in Python\n\nName: Python-100-Days\nOwner: jackfrued\nStars: 99652\nRepo: https://github.com/jackfrued/Python-100-Days\nDescription: Python - 100天从新手到大师\n\nName: awesome-python\nOwner: vinta\nStars: 94195\nRepo: https://github.com/vinta/awesome-python\nDescription: A curated list of awesome Python frameworks, libraries, software and resources\n\nName: youtube-dl\nOwner: ytdl-org\nStars: 90322\nRepo: https://github.com/ytdl-org/youtube-dl\nDescription: Command-line program to download videos from YouTube.com and other video sites\n\nName: models\nOwner: tensorflow\nStars: 68709\nRepo: https://github.com/tensorflow/models\nDescription: Models and examples built with TensorFlow\n\nName: thefuck\nOwner: nvbn\nStars: 59009\nRepo: https://github.com/nvbn/thefuck\nDescription: Magnificent app which corrects your previous console command.\n\nName: django\nOwner: django\nStars: 55709\nRepo: https://github.com/django/django\nDescription: The Web framework for perfectionists with deadlines.\n\nName: flask\nOwner: pallets\nStars: 53934\nRepo: https://github.com/pallets/flask\nDescription: The Python micro framework for building web applications.\n\nName: keras\nOwner: keras-team\nStars: 50728\nRepo: https://github.com/keras-team/keras\nDescription: Deep Learning for humans\n\nName: httpie\nOwner: httpie\nStars: 49914\nRepo: https://github.com/httpie/httpie\nDescription: As easy as /aitch-tee-tee-pie/ 🥧 Modern, user-friendly command-line HTTP client for the API era. JSON support, colors, sessions, downloads, plugins & more. https://twitter.com/httpie\n\nName: awesome-machine-learning\nOwner: josephmisiti\nStars: 48489\nRepo: https://github.com/josephmisiti/awesome-machine-learning\nDescription: A curated list of awesome Machine Learning frameworks, libraries and software.\n\nName: ansible\nOwner: ansible\nStars: 46931\nRepo: https://github.com/ansible/ansible\nDescription: Ansible is a radically simple IT automation platform that makes your applications and systems easier to deploy and maintain. Automate everything from code deployment to network configuration to cloud management, in a language that approaches plain English, using SSH, with no agents to install on remote systems. https://docs.ansible.com.\n\nName: scikit-learn\nOwner: scikit-learn\nStars: 44626\nRepo: https://github.com/scikit-learn/scikit-learn\nDescription: scikit-learn: machine learning in Python\n\nName: requests\nOwner: psf\nStars: 44624\nRepo: https://github.com/psf/requests\nDescription: A simple, yet elegant HTTP library.\n\nName: transformers\nOwner: huggingface\nStars: 41000\nRepo: https://github.com/huggingface/transformers\nDescription: 🤗Transformers: State-of-the-art Natural Language Processing for Pytorch and TensorFlow 2.0.\n\nName: scrapy\nOwner: scrapy\nStars: 39824\nRepo: https://github.com/scrapy/scrapy\nDescription: Scrapy, a fast high-level web crawling & scraping framework for Python.\n\nName: big-list-of-naughty-strings\nOwner: minimaxir\nStars: 39470\nRepo: https://github.com/minimaxir/big-list-of-naughty-strings\nDescription: The Big List of Naughty Strings is a list of strings which have a high probability of causing issues when used as user-input data.\n\nName: face_recognition\nOwner: ageitgey\nStars: 38607\nRepo: https://github.com/ageitgey/face_recognition\nDescription: The world's simplest facial recognition api for Python and the command line\n\nName: HelloGitHub\nOwner: 521xueweihan\nStars: 37329\nRepo: https://github.com/521xueweihan/HelloGitHub\nDescription: :octocat: Find pearls on open-source seashore 分享 GitHub 上有趣、入门级的开源项目\n\nName: cpython\nOwner: python\nStars: 36286\nRepo: https://github.com/python/cpython\nDescription: The Python programming language\n\nName: superset\nOwner: apache\nStars: 35438\nRepo: https://github.com/apache/superset\nDescription: Apache Superset is a Data Visualization and Data Exploration Platform\n\nName: faceswap\nOwner: deepfakes\nStars: 34210\nRepo: https://github.com/deepfakes/faceswap\nDescription: Deepfakes Software For All\n\nName: shadowsocks\nOwner: shadowsocks\nStars: 32948\nRepo: https://github.com/shadowsocks/shadowsocks\nDescription: None\n\nName: manim\nOwner: 3b1b\nStars: 30846\nRepo: https://github.com/3b1b/manim\nDescription: Animation engine for explanatory math videos\n\nName: XX-Net\nOwner: XX-net\nStars: 30558\nRepo: https://github.com/XX-net/XX-Net\nDescription: A proxy tool to bypass GFW.\n\nName: interview_internal_reference\nOwner: 0voice\nStars: 30300\nRepo: https://github.com/0voice/interview_internal_reference\nDescription: 2020年最新总结，阿里，腾讯，百度，美团，头条等技术面试题目，以及答案，专家出题人分析汇总。\n\nName: CppCoreGuidelines\nOwner: isocpp\nStars: 29957\nRepo: https://github.com/isocpp/CppCoreGuidelines\nDescription: The C++ Core Guidelines are a set of tried-and-true guidelines, rules, and best practices about coding in C++\n\nName: Deep-Learning-Papers-Reading-Roadmap\nOwner: floodsung\nStars: 29325\nRepo: https://github.com/floodsung/Deep-Learning-Papers-Reading-Roadmap\nDescription: Deep Learning papers reading roadmap for anyone who are eager to learn this amazing tech!\n"
     ]
    }
   ],
   "source": [
    "# test: summary for most stars\n",
    "print(\"\\nSelected info about each repo\")\n",
    "for repo in repo_dicts:\n",
    "    print('\\nName:', repo['name'])\n",
    "    print('Owner:', repo['owner']['login'])\n",
    "    print('Stars:', repo['stargazers_count'])\n",
    "    print('Repo:', repo['html_url'])\n",
    "    print('Description:', repo['description'])"
   ]
  },
  {
   "source": [
    "## pygal visualization"
   ],
   "cell_type": "markdown",
   "metadata": {}
  },
  {
   "cell_type": "code",
   "execution_count": 6,
   "metadata": {},
   "outputs": [],
   "source": [
    "names, stars = [], []\n",
    "for repo_x in repo_dicts:\n",
    "    names.append(repo_x['name'])\n",
    "    stars.append(repo_x['stargazers_count'])"
   ]
  },
  {
   "cell_type": "code",
   "execution_count": 7,
   "metadata": {},
   "outputs": [],
   "source": [
    "import pygal\n",
    "from pygal.style import LightColorizedStyle as LCS, \\\n",
    "                        RotateStyle as RS"
   ]
  },
  {
   "cell_type": "code",
   "execution_count": 8,
   "metadata": {},
   "outputs": [],
   "source": [
    "my_style = RS('#cdd865', base_style=LCS)\n",
    "\n",
    "my_config = pygal.Config()\n",
    "my_config.x_label_rotation = 45\n",
    "my_config.show_legend = False\n",
    "my_config.title_font_size = 24\n",
    "my_config.label_font_size = 14\n",
    "my_config.major_label_font_size = 18\n",
    "my_config.truncate_label = 15\n",
    "my_config.show_y_guides = False\n",
    "my_config.width = 1000\n",
    "\n",
    "chart = pygal.Bar(my_config, style=my_style)\n",
    "chart.title = 'Most-Starred Python Projects on GitHub'\n",
    "chart.x_labels = names\n",
    "\n",
    "chart.add('', stars) # do not add tags\n",
    "chart.render_to_file('output/python_repos.svg')"
   ]
  },
  {
   "source": [
    "## Plot by data"
   ],
   "cell_type": "markdown",
   "metadata": {}
  },
  {
   "cell_type": "code",
   "execution_count": 9,
   "metadata": {},
   "outputs": [],
   "source": [
    "# use 'names' list\n",
    "plot_dicts = []\n",
    "for repo_z in repo_dicts:\n",
    "    plot_dict = {\n",
    "        'value': repo_z['stargazers_count'],\n",
    "        'label': str(repo_z['description']),\n",
    "        'xlink': repo_z['html_url'],\n",
    "    }\n",
    "    plot_dicts.append(plot_dict)\n",
    "\n",
    "chart = pygal.Bar(my_config, style=my_style)\n",
    "chart.title = 'Most-Starred Python Projects on GitHub'\n",
    "chart.x_labels = names\n",
    "chart.force_uri_protocol = 'http'\n",
    "\n",
    "chart.add('', plot_dicts)\n",
    "chart.render_to_file('output/python_repos_new.svg')"
   ]
  },
  {
   "cell_type": "code",
   "execution_count": null,
   "metadata": {},
   "outputs": [],
   "source": []
  }
 ]
}