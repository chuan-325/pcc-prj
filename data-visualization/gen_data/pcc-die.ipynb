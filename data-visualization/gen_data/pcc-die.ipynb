{
 "metadata": {
  "language_info": {
   "codemirror_mode": {
    "name": "ipython",
    "version": 3
   },
   "file_extension": ".py",
   "mimetype": "text/x-python",
   "name": "python",
   "nbconvert_exporter": "python",
   "pygments_lexer": "ipython3",
   "version": "3.8.6-final"
  },
  "orig_nbformat": 2,
  "kernelspec": {
   "name": "python3",
   "display_name": "Python 3.8.6 64-bit ('pycc': conda)",
   "metadata": {
    "interpreter": {
     "hash": "3238392ffc0fa5aeca5a9f3e1fdb054663145ea406325b4dd3614f33801c1d4c"
    }
   }
  }
 },
 "nbformat": 4,
 "nbformat_minor": 2,
 "cells": [
  {
   "cell_type": "code",
   "execution_count": 5,
   "metadata": {},
   "outputs": [],
   "source": [
    "# Create Class Die()\n",
    "from random import randint\n",
    "\n",
    "class Die():\n",
    "    '''a class for a single die'''\n",
    "\n",
    "    def __init__(self, num_sides=6):\n",
    "        '''default: 1 die has 6 sides'''\n",
    "        self.num_sides = num_sides\n",
    "\n",
    "    def roll(self):\n",
    "        '''return a randint in [1, num_sides]'''\n",
    "        return randint(1, self.num_sides)"
   ]
  },
  {
   "cell_type": "code",
   "execution_count": 6,
   "metadata": {},
   "outputs": [
    {
     "output_type": "stream",
     "name": "stdout",
     "text": [
      "[1, 5, 3, 2, 5, 5, 2, 5, 3, 3, 6, 6, 6, 4, 5, 4, 1, 5, 2, 2, 1, 1, 4, 4, 5, 6, 6, 6, 1, 5, 3, 5, 4, 2, 4, 4, 1, 1, 1, 2, 6, 4, 1, 2, 2, 3, 6, 5, 4, 4, 4, 1, 6, 3, 1, 2, 2, 3, 4, 4, 2, 4, 2, 5, 6, 6, 3, 3, 1, 4, 2, 1, 3, 2, 3, 1, 2, 5, 3, 2, 3, 2, 1, 1, 5, 6, 3, 1, 2, 1, 1, 6, 4, 4, 1, 2, 6, 6, 6, 5]\n"
     ]
    }
   ],
   "source": [
    "# check class die()\n",
    "\n",
    "# create a instance: D6\n",
    "die_test = Die()\n",
    "\n",
    "# roll D6 several times\n",
    "results = []\n",
    "for roll_num in range(100):\n",
    "    results.append(die_test.roll())\n",
    "\n",
    "print(results)"
   ]
  },
  {
   "cell_type": "code",
   "execution_count": 7,
   "metadata": {},
   "outputs": [
    {
     "output_type": "stream",
     "name": "stdout",
     "text": [
      "[309, 326, 330, 327, 372, 336]\n"
     ]
    }
   ],
   "source": [
    "# visual die (single die)\n",
    "\n",
    "# create a instance: D6\n",
    "die_6 = Die()\n",
    "rolltime = int(input(\"How many times would you like to roll the die?: \"))\n",
    "\n",
    "# roll D6 several times\n",
    "results = []\n",
    "for roll_num in range(rolltime):\n",
    "    results.append(die_6.roll())\n",
    "\n",
    "# analyze result\n",
    "freqs = []\n",
    "for val in range(1, die_6.num_sides+1):\n",
    "    freqs.append(results.count(val))\n",
    "print(freqs)"
   ]
  },
  {
   "cell_type": "code",
   "execution_count": 8,
   "metadata": {},
   "outputs": [],
   "source": [
    "# Visualize the result (single die)\n",
    "import pygal\n",
    "\n",
    "# create a bar graph instance\n",
    "hist = pygal.Bar() \n",
    "# graph title\n",
    "hist.title = \"Results of rolling one Die-6 \" + str(rolltime) + \" times\"\n",
    "# x label\n",
    "hist.x_labels = list(str(x+1) for x in range(die_6.num_sides))\n",
    "# axes title\n",
    "hist.x_title = \"Result\"\n",
    "hist.y_title = \"Frequency of Result\"\n",
    "# add value series to graph\n",
    "hist.add('Die-6', freqs) # tag='Die-6', value_list=freqs\n",
    "# render to svg file\n",
    "hist.render_to_file('output/die_visual.svg')"
   ]
  },
  {
   "source": [
    "Next step: single die => two dice"
   ],
   "cell_type": "markdown",
   "metadata": {}
  },
  {
   "cell_type": "code",
   "execution_count": 9,
   "metadata": {},
   "outputs": [],
   "source": [
    "# roll two dices and plot the freqs\n",
    "\n",
    "import pygal\n",
    "\n",
    "# create 2 dice\n",
    "d1 = Die()\n",
    "d2 = Die()\n",
    "\n",
    "# ask for roll-times\n",
    "rolltime = int(input(\"How many times would you like to roll the die?: \"))\n",
    "\n",
    "# roll D6*2 several times\n",
    "results = []\n",
    "for roll_num in range(rolltime):\n",
    "    results.append(d1.roll()+d2.roll())\n",
    "\n",
    "# analyze result\n",
    "dfreqs = []\n",
    "max_result = d1.num_sides + d2.num_sides\n",
    "for val in range(2, max_result+1):\n",
    "    dfreqs.append(results.count(val))\n",
    "\n",
    "#########PLOTTING#########\n",
    "\n",
    "# create a bar graph instance\n",
    "hist_dice = pygal.Bar() \n",
    "# graph title\n",
    "hist_dice.title = \"Results of rolling tow Die-6 \" + str(rolltime) + \" times\"\n",
    "# x label\n",
    "hist_dice.x_labels = list(str(x) for x in range(2, max_result+1, 1))\n",
    "# axes title\n",
    "hist_dice.x_title = \"Result\"\n",
    "hist_dice.y_title = \"Frequency of Result\"\n",
    "# add value series to graph\n",
    "hist_dice.add('Die-6 * 2', dfreqs) # tag='Die-6 * 2', value_list=dfreqs\n",
    "# render to svg file\n",
    "hist_dice.render_to_file('output/dice_visual.svg')"
   ]
  },
  {
   "source": [
    "D6 *  => D6+D10?\n",
    "\n"
   ],
   "cell_type": "markdown",
   "metadata": {}
  },
  {
   "cell_type": "code",
   "execution_count": 10,
   "metadata": {},
   "outputs": [],
   "source": [
    "# roll two dices and plot the freqs\n",
    "\n",
    "import pygal\n",
    "\n",
    "# create 2 dice\n",
    "d3 = Die()\n",
    "d4 = Die(10)\n",
    "\n",
    "# ask for roll-times\n",
    "rolltime = int(input(\"How many times would you like to roll the die?: \"))\n",
    "\n",
    "# roll D6+D10 several times\n",
    "results = []\n",
    "for roll_num in range(rolltime):\n",
    "    results.append(d3.roll()+d4.roll())\n",
    "\n",
    "# analyze result\n",
    "dstfreqs = []\n",
    "max_res_dst = d3.num_sides + d4.num_sides\n",
    "for val in range(2, max_res_dst+1):\n",
    "    dstfreqs.append(results.count(val))\n",
    "\n",
    "#########PLOTTING#########\n",
    "\n",
    "# create a bar graph instance\n",
    "hist_dst = pygal.Bar() \n",
    "# graph title\n",
    "hist_dst.title = \"Results of rolling Die-6 + Die-10 \" + str(rolltime) + \" times\"\n",
    "# x label\n",
    "hist_dst.x_labels = list(str(x) for x in range(2, max_res_dst+1, 1))\n",
    "# axes title\n",
    "hist_dst.x_title = \"Result\"\n",
    "hist_dst.y_title = \"Frequency of Result\"\n",
    "# add value series to graph\n",
    "hist_dst.add('D6+D10', dstfreqs) # tag='Die-6 * 2', value_list=dstfreqs\n",
    "# render to svg file\n",
    "hist_dst.render_to_file('output/dst_visual.svg')"
   ]
  },
  {
   "cell_type": "code",
   "execution_count": null,
   "metadata": {},
   "outputs": [],
   "source": []
  }
 ]
}