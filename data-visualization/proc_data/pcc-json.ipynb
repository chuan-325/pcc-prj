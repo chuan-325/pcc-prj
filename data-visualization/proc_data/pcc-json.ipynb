{
 "metadata": {
  "language_info": {
   "codemirror_mode": {
    "name": "ipython",
    "version": 3
   },
   "file_extension": ".py",
   "mimetype": "text/x-python",
   "name": "python",
   "nbconvert_exporter": "python",
   "pygments_lexer": "ipython3",
   "version": "3.8.6-final"
  },
  "orig_nbformat": 2,
  "kernelspec": {
   "name": "python3",
   "display_name": "Python 3.8.6 64-bit ('pycc': conda)",
   "metadata": {
    "interpreter": {
     "hash": "3238392ffc0fa5aeca5a9f3e1fdb054663145ea406325b4dd3614f33801c1d4c"
    }
   }
  }
 },
 "nbformat": 4,
 "nbformat_minor": 2,
 "cells": [
  {
   "source": [
    "# Draw a world map with population data\n",
    "- source: population data in JSON file(s)\n",
    "- target: a graph show population of countries around the world"
   ],
   "cell_type": "markdown",
   "metadata": {}
  },
  {
   "source": [
    "## Process JSON data"
   ],
   "cell_type": "markdown",
   "metadata": {}
  },
  {
   "cell_type": "code",
   "execution_count": 33,
   "metadata": {},
   "outputs": [],
   "source": [
    "# import JSON file\n",
    "import json\n",
    "\n",
    "\n",
    "# Load the data into a list.\n",
    "filename = 'data\\population_data.json'\n",
    "with open(filename) as f:\n",
    "    pop_data = json.load(f)\n"
   ]
  },
  {
   "cell_type": "code",
   "execution_count": 34,
   "metadata": {},
   "outputs": [],
   "source": [
    "from pygal_maps_world.i18n import COUNTRIES\n",
    "\n",
    "\n",
    "def get_country_code(country_name):\n",
    "    '''Return the Pygal 2-digit country code for the given country.'''\n",
    "    for code, name in COUNTRIES.items():\n",
    "        if name == country_name:\n",
    "            return code\n",
    "    # If the country wasn't found, return None.\n",
    "    return None\n"
   ]
  },
  {
   "cell_type": "code",
   "execution_count": 35,
   "metadata": {},
   "outputs": [],
   "source": [
    "# Build a dictionary of population data\n",
    "cc_populations = {}\n",
    "for pop_dict in pop_data:\n",
    "    if pop_dict['Year'] == '2010':\n",
    "        country_name = pop_dict['Country Name']\n",
    "        population = int(float(pop_dict['Value']))\n",
    "        # Prepare for pygal-maps:  \n",
    "        #     country_name=>country code\n",
    "        code = get_country_code(country_name)\n",
    "        if code:\n",
    "            cc_populations[code] = population"
   ]
  },
  {
   "cell_type": "code",
   "execution_count": 36,
   "metadata": {},
   "outputs": [],
   "source": [
    "# Group the countries into 3 population levels\n",
    "cc_pops_1, cc_pops_2, cc_pops_3 = {}, {}, {}\n",
    "for cc, pop in cc_populations.items():\n",
    "    if pop < 10000000:\n",
    "        cc_pops_1[cc] = pop\n",
    "    elif pop < 1000000000:\n",
    "        cc_pops_2[cc] = pop\n",
    "    else:\n",
    "        cc_pops_3[cc] = pop"
   ]
  },
  {
   "source": [
    "## Draw the World Map"
   ],
   "cell_type": "markdown",
   "metadata": {}
  },
  {
   "cell_type": "code",
   "execution_count": 37,
   "metadata": {},
   "outputs": [],
   "source": [
    "from pygal.style import LightColorizedStyle as LCS, \\\n",
    "                        RotateStyle as RS \n",
    "import pygal_maps_world.maps\n",
    "\n",
    "\n",
    "# Style select: base-color & base-style\n",
    "#  - base style: use lighter color to fill the pygal-graph\n",
    "wm_style = RS('#ccd865', base_style=LCS)\n",
    "# Use style to draw map[wm]\n",
    "wm = pygal_maps_world.maps.World(style=wm_style)\n",
    "\n",
    "# Map format\n",
    "wm.title = 'World Population in 2010, by Country'\n",
    "wm.add('0-10m', cc_pops_1)   # add series\n",
    "wm.add('10m-1bn', cc_pops_2)\n",
    "wm.add('>1bn', cc_pops_3)\n",
    "\n",
    "# Render to SVG file\n",
    "wm.render_to_file('output\\world_population.svg')"
   ]
  },
  {
   "cell_type": "code",
   "execution_count": null,
   "metadata": {},
   "outputs": [],
   "source": []
  }
 ]
}